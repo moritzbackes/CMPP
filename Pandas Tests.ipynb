{
 "cells": [
  {
   "cell_type": "markdown",
   "metadata": {},
   "source": [
    "## Panda Data Testing Using MiniBooNE Dataset\n",
    "<a href=\"https://pbs.twimg.com/media/C4f3GF6WAAAY1Ok.jpg:large\">Pandas cheat sheet for reference</a>\n",
    "<img src=\"https://pbs.twimg.com/media/C4f3GF6WAAAY1Ok.jpg:large\" >\n",
    "\n",
    "<br>\n",
    "<br>\n",
    "What follows is an example of pandas usage using the MiniBooNE PID dataset from: https://archive.ics.uci.edu/ml/datasets/MiniBooNE+particle+identification\n"
   ]
  },
  {
   "cell_type": "code",
   "execution_count": null,
   "metadata": {},
   "outputs": [],
   "source": [
    "%matplotlib inline\n",
    "\n",
    "import matplotlib.pyplot as plt\n",
    "import pandas as pd\n",
    "import numpy as np\n",
    "import matplotlib.pylab as pylab\n",
    "import seaborn as sns\n",
    "\n",
    "#Plot formatting for presentation\n",
    "plt.style.use(['bmh'])\n",
    "\n",
    "params = {'legend.fontsize': 'x-large',\n",
    "         'axes.labelsize': 'x-large',\n",
    "         'axes.titlesize':'x-large',\n",
    "         'xtick.labelsize':'x-large',\n",
    "         'ytick.labelsize':'x-large'}\n",
    "pylab.rcParams.update(params)\n",
    "\n",
    "#Load the header information from the text file\n",
    "#The header contains the number of signal and background events\n",
    "mbsigback=pd.read_table(\"data/MiniBooNE_PID.txt\", delimiter=r\"\\s+\", nrows=1, header=None)\n",
    "nsig=mbsigback[0][0]\n",
    "nback=mbsigback[1][0]\n",
    "\n",
    "#Load the signal and background into separate dataframes\n",
    "mbsig=pd.read_table(\"data/MiniBooNE_PID.txt\", delimiter=r\"\\s+\", nrows=1000, skiprows=1, header=None)\n",
    "mbback=pd.read_table(\"data/MiniBooNE_PID.txt\", delimiter=r\"\\s+\", nrows=1000, skiprows=1+nsig, header=None)\n",
    "\n",
    "#Add labels column to mbsig and mbback (0 = signal, 1 = background)\n",
    "mbsig['sigback'] = pd.Series([0 for x in range(len(mbsig.index))], index=mbsig.index)\n",
    "mbback['sigback'] = pd.Series([1 for x in range(len(mbback.index))], index=mbback.index)\n",
    "\n",
    "#Merge the dataframes into one\n",
    "mball=pd.concat([mbsig,mbback]) \n",
    "\n",
    "#Clean default values from the dataset (remove entries with -999.00 in any field)\n",
    "for col in mball:\n",
    "    mball=mball[mball[col]!=-999.00]\n",
    "    \n",
    "#Rescale data to be from 0 to 1\n",
    "norm_cols = [i for i in range(50)]\n",
    "mball[norm_cols] = mball[norm_cols].apply(lambda x: (x - x.min()) / (x.max() - x.min()))\n",
    "\n",
    "print (\"done loading data\")"
   ]
  },
  {
   "cell_type": "code",
   "execution_count": null,
   "metadata": {},
   "outputs": [],
   "source": [
    "print(\"Total signal entries:\", nsig)\n",
    "print(\"Total background entries:\", nback)\n",
    "mball\n"
   ]
  },
  {
   "cell_type": "code",
   "execution_count": null,
   "metadata": {},
   "outputs": [],
   "source": [
    "mbsig.describe()"
   ]
  },
  {
   "cell_type": "code",
   "execution_count": null,
   "metadata": {},
   "outputs": [],
   "source": [
    "mbback.describe()"
   ]
  },
  {
   "cell_type": "code",
   "execution_count": null,
   "metadata": {},
   "outputs": [],
   "source": [
    "mball.describe()"
   ]
  },
  {
   "cell_type": "code",
   "execution_count": null,
   "metadata": {
    "scrolled": false
   },
   "outputs": [],
   "source": [
    "#Do some plotting\n",
    "for col in range(50):\n",
    "    plt.figure()\n",
    "    #Extract signal and background for this column from pandas dataframe\n",
    "    sig=mball[mball.sigback==0][col]\n",
    "    back=mball[mball.sigback==1][col]\n",
    "    #Get binning by merging the datasets, plotting, and returning the binning (index 1)\n",
    "    bins=np.histogram(np.hstack((sig,back)), bins=40)[1]\n",
    "    plt.hist(sig, label='Signal', alpha=0.5, bins=bins)\n",
    "    plt.hist(back, label='Background', alpha=0.5, bins=bins)\n",
    "    plt.xlabel('Feature %d'%col)\n",
    "    plt.legend()\n",
    "    plt.show()"
   ]
  },
  {
   "cell_type": "code",
   "execution_count": null,
   "metadata": {
    "scrolled": false
   },
   "outputs": [],
   "source": [
    "#Plot pairwise 2d correlation plots for the first 5 features\n",
    "#Note: this uses the seaborn library\n",
    "sns.pairplot(mball, hue=\"sigback\", vars=[0,1,2,3,4], size=2.5, plot_kws=dict(s=10))"
   ]
  },
  {
   "cell_type": "code",
   "execution_count": null,
   "metadata": {},
   "outputs": [],
   "source": []
  }
 ],
 "metadata": {
  "anaconda-cloud": {},
  "kernelspec": {
   "display_name": "Python 3",
   "language": "python",
   "name": "python3"
  },
  "language_info": {
   "codemirror_mode": {
    "name": "ipython",
    "version": 3
   },
   "file_extension": ".py",
   "mimetype": "text/x-python",
   "name": "python",
   "nbconvert_exporter": "python",
   "pygments_lexer": "ipython3",
   "version": "3.5.4"
  }
 },
 "nbformat": 4,
 "nbformat_minor": 1
}

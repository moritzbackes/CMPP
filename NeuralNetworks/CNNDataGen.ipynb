{
 "cells": [
  {
   "cell_type": "code",
   "execution_count": 1,
   "metadata": {},
   "outputs": [
    {
     "name": "stderr",
     "output_type": "stream",
     "text": [
      "/Users/mbackes/anaconda3/envs/CMPP/lib/python3.5/site-packages/ipykernel_launcher.py:48: DeprecationWarning: `imresize` is deprecated!\n",
      "`imresize` is deprecated in SciPy 1.0.0, and will be removed in 1.2.0.\n",
      "Use ``skimage.transform.resize`` instead.\n"
     ]
    },
    {
     "data": {
      "image/png": "[encoded data removed]",
      "text/plain": [
       "<matplotlib.figure.Figure at 0x10a560710>"
      ]
     },
     "metadata": {},
     "output_type": "display_data"
    },
    {
     "data": {
      "image/png": "[encoded data removed]",
      "text/plain": [
       "<matplotlib.figure.Figure at 0x10813d278>"
      ]
     },
     "metadata": {},
     "output_type": "display_data"
    }
   ],
   "source": [
    "%matplotlib inline\n",
    "import matplotlib.pyplot as plt\n",
    "import numpy as np\n",
    "from math import *\n",
    "import scipy.misc\n",
    "import pickle\n",
    "\n",
    "dims=[256,256]\n",
    "finaldims=[32,32]\n",
    "\n",
    "def propagate(biprob,Edep,maxNewE,invisprob,aa=None,E=None,c=None,d=None,vis=None):\n",
    "    \"\"\"\n",
    "    Recursive function to generate a track-like or shower-like object depending on the passed parameters.\n",
    "    biprob: bifurcation probabibility (probability of spawning a track)\n",
    "    Edep: amount of energy deposited per unit length\n",
    "    maxNewE: maximum energy of spawn\n",
    "    invisprob: probability that daughter is invisible\n",
    "    aa: (optional) numpy array containing current Edeps in 2d grid\n",
    "    E: (optional) energy (default energy is randomized)\n",
    "    c: (optional) position\n",
    "    d: (optional) direction\n",
    "    vis: (optional, bool) particle visibility (whether it deposits energy or not)\n",
    "    \"\"\"\n",
    "    if aa is None:\n",
    "        c=np.array([int(dims[0]/2),0.])\n",
    "        d=np.random.rand()*pi\n",
    "        aa=np.random.randint(low=0,high=25,size=dims, dtype=np.uint8)\n",
    "        E=100+np.random.rand()*1000.\n",
    "        vis=True\n",
    "\n",
    "    while E>0 and c[0]<dims[0] and c[0]>=0 and c[1]<dims[0] and c[1]>=0:\n",
    "        if vis: \n",
    "            aa[int(c[0]),int(c[1])] += 255*(Edep + 0.1*np.random.rand())\n",
    "            E-=Edep\n",
    "        c+=[cos(d),sin(d)]\n",
    "        Enew=np.random.rand()*maxNewE\n",
    "        if(np.random.rand()<biprob and E>Enew):\n",
    "            dnew=d + (np.random.rand()-0.5)*pi/4\n",
    "            cnew=np.copy(c)\n",
    "            visnew=(np.random.rand()>invisprob)\n",
    "            aa=propagate(biprob,Edep,maxNewE,visnew,aa,Enew,cnew,dnew,visnew)\n",
    "            E-=Enew\n",
    "        \n",
    "    return aa\n",
    "        \n",
    "def drawplot(biprob,Edep,maxNewE,invisprob, draw=True):\n",
    "    aa=propagate(biprob=biprob,Edep=Edep,maxNewE=maxNewE,invisprob=invisprob)\n",
    "    aa=scipy.misc.imresize(aa,(32,32))\n",
    "    if draw: \n",
    "        plt.matshow(aa,vmin=0,vmax=255)\n",
    "        #turn off tick labels\n",
    "        plt.xticks([])\n",
    "        plt.yticks([])\n",
    "    return aa\n",
    "\n",
    "a=drawplot(biprob=0.3,Edep=0.8, maxNewE=100, invisprob=0.5)\n",
    "b=drawplot(biprob=0.01,Edep=0.7, maxNewE=20, invisprob=0.1)\n",
    "\n"
   ]
  },
  {
   "cell_type": "code",
   "execution_count": 2,
   "metadata": {},
   "outputs": [
    {
     "name": "stderr",
     "output_type": "stream",
     "text": [
      "/Users/mbackes/anaconda3/envs/CMPP/lib/python3.5/site-packages/ipykernel_launcher.py:48: DeprecationWarning: `imresize` is deprecated!\n",
      "`imresize` is deprecated in SciPy 1.0.0, and will be removed in 1.2.0.\n",
      "Use ``skimage.transform.resize`` instead.\n"
     ]
    }
   ],
   "source": [
    "#generate a large sample of showers/tracks for training/testing\n",
    "from sklearn.utils import shuffle #to shuffle the outputs\n",
    "\n",
    "def getImagesAndLabelsSample(N):\n",
    "    images=[]\n",
    "    labels=[]\n",
    "\n",
    "    for i in range(N):\n",
    "        shower=drawplot(biprob=0.3,Edep=0.8, maxNewE=100, invisprob=0.5, draw=False)\n",
    "        track=drawplot(biprob=0.01,Edep=0.6, maxNewE=20, invisprob=0.01,draw=False)\n",
    "        images.append(shower)\n",
    "        labels.append([1,0]) #shower is position 0\n",
    "        images.append(track)\n",
    "        labels.append([0,1]) #track is position 1\n",
    "        \n",
    "    return images, labels\n",
    "    \n",
    "images, labels= getImagesAndLabelsSample(2048)\n",
    "images, labels= shuffle(images, labels)\n",
    "pickle.dump( images, open( \"images.p\", \"wb\" ) )\n",
    "pickle.dump( labels, open( \"labels.p\", \"wb\" ) )\n",
    "\n",
    "imagesTest, labelsTest= getImagesAndLabelsSample(2048)\n",
    "imagesTest, labelsTest= shuffle(imagesTest, labelsTest)\n",
    "pickle.dump( imagesTest, open( \"imagesTest.p\", \"wb\" ) )\n",
    "pickle.dump( labelsTest, open( \"labelsTest.p\", \"wb\" ) )"
   ]
  },
  {
   "cell_type": "code",
   "execution_count": null,
   "metadata": {},
   "outputs": [],
   "source": []
  },
  {
   "cell_type": "code",
   "execution_count": null,
   "metadata": {},
   "outputs": [],
   "source": []
  },
  {
   "cell_type": "code",
   "execution_count": null,
   "metadata": {},
   "outputs": [],
   "source": []
  },
  {
   "cell_type": "code",
   "execution_count": null,
   "metadata": {},
   "outputs": [],
   "source": []
  }
 ],
 "metadata": {
  "anaconda-cloud": {},
  "kernelspec": {
   "display_name": "Python 3",
   "language": "python",
   "name": "python3"
  },
  "language_info": {
   "codemirror_mode": {
    "name": "ipython",
    "version": 3
   },
   "file_extension": ".py",
   "mimetype": "text/x-python",
   "name": "python",
   "nbconvert_exporter": "python",
   "pygments_lexer": "ipython3",
   "version": "3.5.4"
  }
 },
 "nbformat": 4,
 "nbformat_minor": 1
}
